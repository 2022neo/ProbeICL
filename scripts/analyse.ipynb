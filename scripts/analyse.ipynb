{
 "cells": [
  {
   "cell_type": "code",
   "execution_count": 1,
   "metadata": {},
   "outputs": [],
   "source": [
    "import json\n",
    "import numpy as np"
   ]
  },
  {
   "cell_type": "code",
   "execution_count": 2,
   "metadata": {},
   "outputs": [],
   "source": [
    "infer_p = '/mnt/16t_3/jiyuwen/projects/DPR/exps/copa/inference/infer_res.log'\n",
    "infer_res = [json.loads(line) for line in open(infer_p,'r')]"
   ]
  },
  {
   "cell_type": "code",
   "execution_count": 3,
   "metadata": {},
   "outputs": [
    {
     "name": "stdout",
     "output_type": "stream",
     "text": [
      "dict_keys(['test_info', 'aug_test_info', 'valid_info', 'avg_shot', 'epoches', 'lr', 'k_shot', 'preference_penalty', 'ortho_penalty', 'tau', 'hard_mask', 'filter_positive', 'filter_preference', 'rand_ctx', 'norm_option', 'norm_mask', 'mask_type', 'reward_type', 'gamma', 'beta', 'batch_size', 'multi_ctrs', 'lm_name', 'top_k', 'train_ds', 'dropout', 'ckpt'])\n"
     ]
    }
   ],
   "source": [
    "skip_keys = set([\"ckpt\",\"test_info\",\"aug_test_info\",\"valid_info\",\"lm_name\"])\n",
    "param2scores = {}\n",
    "for data in infer_res:\n",
    "    param = {k:v for k,v in data.items() if k not in skip_keys}\n",
    "    score = max(data[\"test_info\"][\"score\"],data[\"aug_test_info\"][\"score\"])\n",
    "    key = json.dumps(param)\n",
    "    param2scores.setdefault(key,[])\n",
    "    param2scores[key].append(score)\n",
    "\n",
    "\n",
    "print(infer_res[0].keys())"
   ]
  },
  {
   "cell_type": "code",
   "execution_count": 5,
   "metadata": {},
   "outputs": [
    {
     "name": "stdout",
     "output_type": "stream",
     "text": [
      "mean=72.8,max=76.0 {\"norm_mask\": 1}\n",
      "mean=73.2,max=77.0 {\"norm_mask\": 0}\n"
     ]
    }
   ],
   "source": [
    "target_keys = [\"norm_mask\"]\n",
    "localparam2scores = {}\n",
    "for k,v in param2scores.items():\n",
    "    score = max(v)\n",
    "    param = json.loads(k)\n",
    "    key = json.dumps({a:param[a] for a in target_keys})\n",
    "    localparam2scores.setdefault(key,[])\n",
    "    localparam2scores[key].append(score)\n",
    "\n",
    "lst = sorted(localparam2scores.items(),key=lambda x:np.mean(x[1]).item())\n",
    "for line in lst:\n",
    "    print(f\"mean={np.mean(line[1]).item():.1f},max={np.max(line[1]).item():.1f}\",line[0])"
   ]
  }
 ],
 "metadata": {
  "kernelspec": {
   "display_name": "video",
   "language": "python",
   "name": "python3"
  },
  "language_info": {
   "codemirror_mode": {
    "name": "ipython",
    "version": 3
   },
   "file_extension": ".py",
   "mimetype": "text/x-python",
   "name": "python",
   "nbconvert_exporter": "python",
   "pygments_lexer": "ipython3",
   "version": "3.8.19"
  },
  "orig_nbformat": 4,
  "vscode": {
   "interpreter": {
    "hash": "8323dd322c8e45ff544140afa546415c3ed84d43dca8bef6b21179d9412682ef"
   }
  }
 },
 "nbformat": 4,
 "nbformat_minor": 2
}
