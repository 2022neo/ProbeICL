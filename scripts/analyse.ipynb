{
 "cells": [
  {
   "cell_type": "code",
   "execution_count": null,
   "metadata": {},
   "outputs": [],
   "source": [
    "import json\n",
    "import numpy as np"
   ]
  },
  {
   "cell_type": "code",
   "execution_count": null,
   "metadata": {},
   "outputs": [],
   "source": [
    "infer_p = '/mnt/16t_3/jiyuwen/projects/DPR/exps/copa/inference/infer_res.log'\n",
    "infer_res = [json.loads(line) for line in open(infer_p,'r')]"
   ]
  },
  {
   "cell_type": "code",
   "execution_count": null,
   "metadata": {},
   "outputs": [],
   "source": [
    "skip_keys = set([\"ckpt\",\"test_info\",\"aug_test_info\",\"valid_info\",\"lm_name\"])\n",
    "param2scores = {}\n",
    "for data in infer_res:\n",
    "    param = {k:v for k,v in data.items() if k not in skip_keys}\n",
    "    score = data[\"test_info\"][\"ACC\"]\n",
    "    key = json.dumps(param)\n",
    "    param2scores.setdefault(key,[])\n",
    "    param2scores[key].append(score)\n",
    "\n",
    "target_keys = [\"rand_neg\",\"multi_ctrs\",\"filter_positive\"]\n",
    "localparam2scores = {}\n",
    "for k,v in param2scores.items():\n",
    "    score = max(v)\n",
    "    param = json.loads(k)\n",
    "    key = json.dumps({a:param[a] for a in target_keys})\n",
    "    localparam2scores.setdefault(key,[])\n",
    "    localparam2scores[key].append(score)\n"
   ]
  },
  {
   "cell_type": "code",
   "execution_count": null,
   "metadata": {},
   "outputs": [],
   "source": [
    "lst = sorted(param2scores.items(),key=lambda x:max(x[1]))\n",
    "print(lst[0])\n",
    "print(lst[-1])"
   ]
  },
  {
   "cell_type": "code",
   "execution_count": null,
   "metadata": {},
   "outputs": [],
   "source": [
    "lst = sorted(localparam2scores.items(),key=lambda x:np.mean(x[1]).item())\n",
    "for line in lst:\n",
    "    print(f\"{np.mean(line[1]).item():.1f}\",line)"
   ]
  }
 ],
 "metadata": {
  "kernelspec": {
   "display_name": "video",
   "language": "python",
   "name": "python3"
  },
  "language_info": {
   "codemirror_mode": {
    "name": "ipython",
    "version": 3
   },
   "file_extension": ".py",
   "mimetype": "text/x-python",
   "name": "python",
   "nbconvert_exporter": "python",
   "pygments_lexer": "ipython3",
   "version": "3.8.19"
  },
  "orig_nbformat": 4,
  "vscode": {
   "interpreter": {
    "hash": "8323dd322c8e45ff544140afa546415c3ed84d43dca8bef6b21179d9412682ef"
   }
  }
 },
 "nbformat": 4,
 "nbformat_minor": 2
}
