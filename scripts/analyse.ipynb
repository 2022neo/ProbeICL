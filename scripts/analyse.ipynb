{
 "cells": [
  {
   "cell_type": "code",
   "execution_count": 1,
   "metadata": {},
   "outputs": [],
   "source": [
    "import json\n",
    "import numpy as np"
   ]
  },
  {
   "cell_type": "code",
   "execution_count": 2,
   "metadata": {},
   "outputs": [],
   "source": [
    "infer_p = '/mnt/16t_3/jiyuwen/projects/DPR/exps/copa/inference/infer_res.log'\n",
    "infer_res = [json.loads(line) for line in open(infer_p,'r')]"
   ]
  },
  {
   "cell_type": "code",
   "execution_count": 4,
   "metadata": {},
   "outputs": [],
   "source": [
    "skip_keys = set([\"ckpt\",\"test_info\",\"aug_test_info\",\"valid_info\",\"lm_name\"])\n",
    "param2scores = {}\n",
    "for data in infer_res:\n",
    "    param = {k:v for k,v in data.items() if k not in skip_keys}\n",
    "    score = data[\"test_info\"][\"ACC\"]\n",
    "    key = json.dumps(param)\n",
    "    param2scores.setdefault(key,[])\n",
    "    param2scores[key].append(score)\n",
    "\n",
    "target_keys = [\"rand_neg\",\"multi_ctrs\",\"filter_positive\"]\n",
    "localparam2scores = {}\n",
    "for k,v in param2scores.items():\n",
    "    score = max(v)\n",
    "    param = json.loads(k)\n",
    "    key = json.dumps({a:param[a] for a in target_keys})\n",
    "    localparam2scores.setdefault(key,[])\n",
    "    localparam2scores[key].append(score)\n"
   ]
  },
  {
   "cell_type": "code",
   "execution_count": 5,
   "metadata": {},
   "outputs": [
    {
     "name": "stdout",
     "output_type": "stream",
     "text": [
      "('{\"avg_shot\": 3.0, \"epoches\": 6, \"lr\": 1e-05, \"k_shot\": 3, \"label_penalty\": 0.001, \"ortho_penalty\": 1.0, \"ctrs_penalty\": 1.0, \"tau\": 1.0, \"hard_mask\": 1, \"filter_positive\": 0, \"rand_neg\": 1, \"mask_type\": 3, \"multi_ctrs\": 1, \"top_k\": 80, \"dropout\": 0.2}', [69.0, 69.0, 68.0, 71.0, 70.0, 68.0, 69.0])\n",
      "('{\"avg_shot\": 3.0, \"epoches\": 6, \"lr\": 1e-05, \"k_shot\": 3, \"label_penalty\": 0.001, \"ortho_penalty\": 1.0, \"ctrs_penalty\": 1.0, \"tau\": 1.0, \"hard_mask\": 1, \"filter_positive\": 1, \"rand_neg\": 0, \"mask_type\": 3, \"multi_ctrs\": 0, \"top_k\": 190, \"dropout\": 0.2}', [77.0, 74.0, 74.0, 73.0, 74.0, 74.0])\n"
     ]
    }
   ],
   "source": [
    "lst = sorted(param2scores.items(),key=lambda x:max(x[1]))\n",
    "print(lst[0])\n",
    "print(lst[-1])"
   ]
  },
  {
   "cell_type": "code",
   "execution_count": 6,
   "metadata": {},
   "outputs": [
    {
     "name": "stdout",
     "output_type": "stream",
     "text": [
      "72.3 ('{\"rand_neg\": 1, \"multi_ctrs\": 1, \"filter_positive\": 1}', [71.0, 74.0, 72.0])\n",
      "72.7 ('{\"rand_neg\": 1, \"multi_ctrs\": 1, \"filter_positive\": 0}', [71.0, 74.0, 73.0])\n",
      "73.0 ('{\"rand_neg\": 0, \"multi_ctrs\": 0, \"filter_positive\": 0}', [74.0, 71.0, 74.0])\n",
      "73.3 ('{\"rand_neg\": 1, \"multi_ctrs\": 0, \"filter_positive\": 1}', [74.0, 72.0, 74.0])\n",
      "73.7 ('{\"rand_neg\": 0, \"multi_ctrs\": 0, \"filter_positive\": 1}', [72.0, 72.0, 77.0])\n",
      "74.0 ('{\"rand_neg\": 0, \"multi_ctrs\": 1, \"filter_positive\": 0}', [74.0, 73.0, 75.0])\n",
      "74.3 ('{\"rand_neg\": 0, \"multi_ctrs\": 1, \"filter_positive\": 1}', [75.0, 74.0, 74.0])\n",
      "74.7 ('{\"rand_neg\": 1, \"multi_ctrs\": 0, \"filter_positive\": 0}', [75.0, 73.0, 76.0])\n"
     ]
    }
   ],
   "source": [
    "lst = sorted(localparam2scores.items(),key=lambda x:np.mean(x[1]).item())\n",
    "for line in lst:\n",
    "    print(f\"{np.mean(line[1]).item():.1f}\",line)"
   ]
  }
 ],
 "metadata": {
  "kernelspec": {
   "display_name": "video",
   "language": "python",
   "name": "python3"
  },
  "language_info": {
   "codemirror_mode": {
    "name": "ipython",
    "version": 3
   },
   "file_extension": ".py",
   "mimetype": "text/x-python",
   "name": "python",
   "nbconvert_exporter": "python",
   "pygments_lexer": "ipython3",
   "version": "3.8.19"
  },
  "orig_nbformat": 4,
  "vscode": {
   "interpreter": {
    "hash": "8323dd322c8e45ff544140afa546415c3ed84d43dca8bef6b21179d9412682ef"
   }
  }
 },
 "nbformat": 4,
 "nbformat_minor": 2
}
